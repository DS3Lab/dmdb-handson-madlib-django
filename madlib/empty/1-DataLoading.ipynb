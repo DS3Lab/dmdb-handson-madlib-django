{
 "cells": [
  {
   "cell_type": "markdown",
   "metadata": {},
   "source": [
    "# Connecting to Postgres from a Jupyter notebook\n",
    "\n",
    "We need to use a Jupyter \"magic\" instruction which starts with a `%` for inline or `%%` if we want to apply it to the whole code block.\n",
    "\n",
    "We first do `%load_ext sql` to load the SQL extension:"
   ]
  },
  {
   "cell_type": "code",
   "execution_count": null,
   "metadata": {},
   "outputs": [],
   "source": []
  },
  {
   "cell_type": "markdown",
   "metadata": {},
   "source": [
    "Then we establish a connection with `%sql postgresql://<username>:<password>@localhost[/<dbname>]`"
   ]
  },
  {
   "cell_type": "code",
   "execution_count": null,
   "metadata": {},
   "outputs": [],
   "source": []
  },
  {
   "cell_type": "markdown",
   "metadata": {},
   "source": [
    "We can create a new database to isolate everything we will do and to make it easier to drop it later and start again.\n",
    "\n",
    "We create database with a `CREATE DATABASE <dbname>` command. We drop a database (if it exists) by running `DROP DATABASE IF EXISTS <dbname>`."
   ]
  },
  {
   "cell_type": "markdown",
   "metadata": {},
   "source": [
    "# Configuring MADlib\n",
    "\n",
    "To set up MADlib go to http://madlib.apache.org/download.html and get the appropriate package (for Ubuntu pick the 4th option). After installation, we need to set up MADlib in our Postgres database:\n",
    "\n",
    "```\n",
    "/usr/local/madlib/bin/madpack -s madlib -p postgres -c postgres@localhost/discogs install\n",
    "```\n",
    "\n",
    "Then, to check if everything went OK, we run the `SELECT madlib.version()` query."
   ]
  },
  {
   "cell_type": "code",
   "execution_count": null,
   "metadata": {},
   "outputs": [],
   "source": []
  },
  {
   "cell_type": "markdown",
   "metadata": {},
   "source": [
    "# Defining the Database Schema\n",
    "\n",
    "We start off by running `DROP TABLE IF EXISTS <table1>[, <table2>, ...]` to delete any table if we have already created it. This makes the code block _idempotent_ and enables us to run it multiple times.\n",
    "\n",
    "Then we define the schema for all tables. The relational model is the folliwng:\n",
    "\n",
    "```\n",
    "artists : (artist_id : int, name : varchar(256)?, realname : text?, profile : text?, url : text?)\n",
    "    key: artist_id\n",
    "\n",
    "releases : (release_id : int, released : date, title : text, country : varchar(256)?, genre : varchar(256))\n",
    "    key: release_id\n",
    "\n",
    "released_by : (release_id : int, artist_id : int)\n",
    "    key: release_id, artist_id\n",
    "    foreign key: release_id : releases(release_id), artist_id : artists(artist_id)\n",
    "\n",
    "tracks : (release_id : int, position : varchar(128), title : text?, duration : int?)\n",
    "    key: release_id, position\n",
    "    foreign key: release_id : releases(release_id)\n",
    "\n",
    "```\n",
    "\n",
    "We use the `?` sign to denote attributes that are nullable."
   ]
  },
  {
   "cell_type": "code",
   "execution_count": null,
   "metadata": {},
   "outputs": [],
   "source": []
  },
  {
   "cell_type": "markdown",
   "metadata": {},
   "source": [
    "# Visualizing the ER diagram of the database\n",
    "\n",
    "We can use the eralchemy tool to display the ER diagram of the database schema we have just created. We need to import the `render_er` function from the `eralchemy` module. We will also be using the `IPython.display.Image` function to display the PNG that eralchemy outputs."
   ]
  },
  {
   "cell_type": "code",
   "execution_count": null,
   "metadata": {},
   "outputs": [],
   "source": []
  },
  {
   "cell_type": "markdown",
   "metadata": {},
   "source": [
    "***\n",
    "\n",
    "_Note:_ To install eralchemy, you will need to first run\n",
    "\n",
    "`sudo apt-get install graphviz, libgraphviz-dev`\n",
    "\n",
    "and then install the Python package with:\n",
    "\n",
    "`pip install eralchemy`\n",
    "\n",
    "***"
   ]
  },
  {
   "cell_type": "markdown",
   "metadata": {},
   "source": [
    "# Loading the data"
   ]
  },
  {
   "cell_type": "code",
   "execution_count": null,
   "metadata": {},
   "outputs": [],
   "source": []
  }
 ],
 "metadata": {
  "kernelspec": {
   "display_name": "Python 3",
   "language": "python",
   "name": "python3"
  },
  "language_info": {
   "codemirror_mode": {
    "name": "ipython",
    "version": 3
   },
   "file_extension": ".py",
   "mimetype": "text/x-python",
   "name": "python",
   "nbconvert_exporter": "python",
   "pygments_lexer": "ipython3",
   "version": "3.6.4"
  }
 },
 "nbformat": 4,
 "nbformat_minor": 2
}
